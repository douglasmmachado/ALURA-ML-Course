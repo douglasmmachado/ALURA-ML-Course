{
 "cells": [
  {
   "cell_type": "code",
   "execution_count": 1,
   "outputs": [
    {
     "data": {
      "text/plain": "  CUST_ID      BALANCE  BALANCE_FREQUENCY  PURCHASES  ONEOFF_PURCHASES  \\\n0  C10001    40.900749           0.818182      95.40              0.00   \n1  C10002  3202.467416           0.909091       0.00              0.00   \n2  C10003  2495.148862           1.000000     773.17            773.17   \n3  C10004  1666.670542           0.636364    1499.00           1499.00   \n4  C10005   817.714335           1.000000      16.00             16.00   \n\n   INSTALLMENTS_PURCHASES  CASH_ADVANCE  PURCHASES_FREQUENCY  \\\n0                    95.4      0.000000             0.166667   \n1                     0.0   6442.945483             0.000000   \n2                     0.0      0.000000             1.000000   \n3                     0.0    205.788017             0.083333   \n4                     0.0      0.000000             0.083333   \n\n   ONEOFF_PURCHASES_FREQUENCY  PURCHASES_INSTALLMENTS_FREQUENCY  \\\n0                    0.000000                          0.083333   \n1                    0.000000                          0.000000   \n2                    1.000000                          0.000000   \n3                    0.083333                          0.000000   \n4                    0.083333                          0.000000   \n\n   CASH_ADVANCE_FREQUENCY  CASH_ADVANCE_TRX  PURCHASES_TRX  CREDIT_LIMIT  \\\n0                0.000000                 0              2        1000.0   \n1                0.250000                 4              0        7000.0   \n2                0.000000                 0             12        7500.0   \n3                0.083333                 1              1        7500.0   \n4                0.000000                 0              1        1200.0   \n\n      PAYMENTS  MINIMUM_PAYMENTS  PRC_FULL_PAYMENT  TENURE  \n0   201.802084        139.509787          0.000000      12  \n1  4103.032597       1072.340217          0.222222      12  \n2   622.066742        627.284787          0.000000      12  \n3     0.000000               NaN          0.000000      12  \n4   678.334763        244.791237          0.000000      12  ",
      "text/html": "<div>\n<style scoped>\n    .dataframe tbody tr th:only-of-type {\n        vertical-align: middle;\n    }\n\n    .dataframe tbody tr th {\n        vertical-align: top;\n    }\n\n    .dataframe thead th {\n        text-align: right;\n    }\n</style>\n<table border=\"1\" class=\"dataframe\">\n  <thead>\n    <tr style=\"text-align: right;\">\n      <th></th>\n      <th>CUST_ID</th>\n      <th>BALANCE</th>\n      <th>BALANCE_FREQUENCY</th>\n      <th>PURCHASES</th>\n      <th>ONEOFF_PURCHASES</th>\n      <th>INSTALLMENTS_PURCHASES</th>\n      <th>CASH_ADVANCE</th>\n      <th>PURCHASES_FREQUENCY</th>\n      <th>ONEOFF_PURCHASES_FREQUENCY</th>\n      <th>PURCHASES_INSTALLMENTS_FREQUENCY</th>\n      <th>CASH_ADVANCE_FREQUENCY</th>\n      <th>CASH_ADVANCE_TRX</th>\n      <th>PURCHASES_TRX</th>\n      <th>CREDIT_LIMIT</th>\n      <th>PAYMENTS</th>\n      <th>MINIMUM_PAYMENTS</th>\n      <th>PRC_FULL_PAYMENT</th>\n      <th>TENURE</th>\n    </tr>\n  </thead>\n  <tbody>\n    <tr>\n      <th>0</th>\n      <td>C10001</td>\n      <td>40.900749</td>\n      <td>0.818182</td>\n      <td>95.40</td>\n      <td>0.00</td>\n      <td>95.4</td>\n      <td>0.000000</td>\n      <td>0.166667</td>\n      <td>0.000000</td>\n      <td>0.083333</td>\n      <td>0.000000</td>\n      <td>0</td>\n      <td>2</td>\n      <td>1000.0</td>\n      <td>201.802084</td>\n      <td>139.509787</td>\n      <td>0.000000</td>\n      <td>12</td>\n    </tr>\n    <tr>\n      <th>1</th>\n      <td>C10002</td>\n      <td>3202.467416</td>\n      <td>0.909091</td>\n      <td>0.00</td>\n      <td>0.00</td>\n      <td>0.0</td>\n      <td>6442.945483</td>\n      <td>0.000000</td>\n      <td>0.000000</td>\n      <td>0.000000</td>\n      <td>0.250000</td>\n      <td>4</td>\n      <td>0</td>\n      <td>7000.0</td>\n      <td>4103.032597</td>\n      <td>1072.340217</td>\n      <td>0.222222</td>\n      <td>12</td>\n    </tr>\n    <tr>\n      <th>2</th>\n      <td>C10003</td>\n      <td>2495.148862</td>\n      <td>1.000000</td>\n      <td>773.17</td>\n      <td>773.17</td>\n      <td>0.0</td>\n      <td>0.000000</td>\n      <td>1.000000</td>\n      <td>1.000000</td>\n      <td>0.000000</td>\n      <td>0.000000</td>\n      <td>0</td>\n      <td>12</td>\n      <td>7500.0</td>\n      <td>622.066742</td>\n      <td>627.284787</td>\n      <td>0.000000</td>\n      <td>12</td>\n    </tr>\n    <tr>\n      <th>3</th>\n      <td>C10004</td>\n      <td>1666.670542</td>\n      <td>0.636364</td>\n      <td>1499.00</td>\n      <td>1499.00</td>\n      <td>0.0</td>\n      <td>205.788017</td>\n      <td>0.083333</td>\n      <td>0.083333</td>\n      <td>0.000000</td>\n      <td>0.083333</td>\n      <td>1</td>\n      <td>1</td>\n      <td>7500.0</td>\n      <td>0.000000</td>\n      <td>NaN</td>\n      <td>0.000000</td>\n      <td>12</td>\n    </tr>\n    <tr>\n      <th>4</th>\n      <td>C10005</td>\n      <td>817.714335</td>\n      <td>1.000000</td>\n      <td>16.00</td>\n      <td>16.00</td>\n      <td>0.0</td>\n      <td>0.000000</td>\n      <td>0.083333</td>\n      <td>0.083333</td>\n      <td>0.000000</td>\n      <td>0.000000</td>\n      <td>0</td>\n      <td>1</td>\n      <td>1200.0</td>\n      <td>678.334763</td>\n      <td>244.791237</td>\n      <td>0.000000</td>\n      <td>12</td>\n    </tr>\n  </tbody>\n</table>\n</div>"
     },
     "execution_count": 1,
     "metadata": {},
     "output_type": "execute_result"
    }
   ],
   "source": [
    "import pandas as pd\n",
    "\n",
    "df = pd.read_csv('https://raw.githubusercontent.com/alura-cursos/alura-clustering-validation/base-de-dados/CC%20GENERAL.csv')\n",
    "df.head(5)"
   ],
   "metadata": {
    "collapsed": false
   }
  },
  {
   "cell_type": "code",
   "execution_count": 2,
   "outputs": [
    {
     "name": "stdout",
     "output_type": "stream",
     "text": [
      "(8950, 18)\n",
      "<class 'pandas.core.frame.DataFrame'>\n",
      "RangeIndex: 8950 entries, 0 to 8949\n",
      "Data columns (total 18 columns):\n",
      " #   Column                            Non-Null Count  Dtype  \n",
      "---  ------                            --------------  -----  \n",
      " 0   CUST_ID                           8950 non-null   object \n",
      " 1   BALANCE                           8950 non-null   float64\n",
      " 2   BALANCE_FREQUENCY                 8950 non-null   float64\n",
      " 3   PURCHASES                         8950 non-null   float64\n",
      " 4   ONEOFF_PURCHASES                  8950 non-null   float64\n",
      " 5   INSTALLMENTS_PURCHASES            8950 non-null   float64\n",
      " 6   CASH_ADVANCE                      8950 non-null   float64\n",
      " 7   PURCHASES_FREQUENCY               8950 non-null   float64\n",
      " 8   ONEOFF_PURCHASES_FREQUENCY        8950 non-null   float64\n",
      " 9   PURCHASES_INSTALLMENTS_FREQUENCY  8950 non-null   float64\n",
      " 10  CASH_ADVANCE_FREQUENCY            8950 non-null   float64\n",
      " 11  CASH_ADVANCE_TRX                  8950 non-null   int64  \n",
      " 12  PURCHASES_TRX                     8950 non-null   int64  \n",
      " 13  CREDIT_LIMIT                      8949 non-null   float64\n",
      " 14  PAYMENTS                          8950 non-null   float64\n",
      " 15  MINIMUM_PAYMENTS                  8637 non-null   float64\n",
      " 16  PRC_FULL_PAYMENT                  8950 non-null   float64\n",
      " 17  TENURE                            8950 non-null   int64  \n",
      "dtypes: float64(14), int64(3), object(1)\n",
      "memory usage: 1.2+ MB\n"
     ]
    }
   ],
   "source": [
    "print(df.shape)\n",
    "df.info()"
   ],
   "metadata": {
    "collapsed": false
   }
  },
  {
   "cell_type": "code",
   "execution_count": 3,
   "outputs": [
    {
     "name": "stdout",
     "output_type": "stream",
     "text": [
      "Total de valores únicos :\n",
      "\n",
      "CUST_ID : 8950\n",
      "Valores:['C10001' 'C10002' 'C10003' ... 'C19188' 'C19189' 'C19190']\n",
      "\n",
      "BALANCE : 8871\n",
      "Valores:[  40.900749 3202.467416 2495.148862 ...   23.398673   13.457564\n",
      "  372.708075]\n",
      "\n",
      "BALANCE_FREQUENCY : 43\n",
      "Valores:[0.818182 0.909091 1.       0.636364 0.545455 0.875    0.454545 0.727273\n",
      " 0.5      0.888889 0.090909 0.272727 0.363636 0.       0.666667 0.75\n",
      " 0.857143 0.181818 0.333333 0.6      0.3      0.125    0.9      0.833333\n",
      " 0.8      0.2      0.777778 0.555556 0.25     0.142857 0.571429 0.4\n",
      " 0.444444 0.714286 0.222222 0.1      0.625    0.428571 0.111111 0.285714\n",
      " 0.7      0.375    0.166667]\n",
      "\n",
      "PURCHASES : 6203\n",
      "Valores:[  95.4     0.    773.17 ...  291.12  144.4  1093.25]\n",
      "\n",
      "ONEOFF_PURCHASES : 4014\n",
      "Valores:[   0.    773.17 1499.   ...  734.4  1012.73 1093.25]\n",
      "\n",
      "INSTALLMENTS_PURCHASES : 4452\n",
      "Valores:[  95.4     0.   1333.28 ...  113.28  291.12  144.4 ]\n",
      "\n",
      "CASH_ADVANCE : 4323\n",
      "Valores:[   0.       6442.945483  205.788017 ... 8555.409326   36.558778\n",
      "  127.040008]\n",
      "\n",
      "PURCHASES_FREQUENCY : 47\n",
      "Valores:[0.166667 0.       1.       0.083333 0.666667 0.333333 0.25     0.75\n",
      " 0.5      0.416667 0.916667 0.583333 0.375    0.625    0.272727 0.833333\n",
      " 0.909091 0.111111 0.142857 0.090909 0.363636 0.1      0.875    0.125\n",
      " 0.818182 0.636364 0.2      0.8      0.3      0.9      0.285714 0.727273\n",
      " 0.181818 0.7      0.545455 0.888889 0.714286 0.454545 0.857143 0.555556\n",
      " 0.428571 0.4      0.571429 0.6      0.222222 0.777778 0.444444]\n",
      "\n",
      "ONEOFF_PURCHASES_FREQUENCY : 47\n",
      "Valores:[0.       1.       0.083333 0.166667 0.25     0.916667 0.5      0.416667\n",
      " 0.333333 0.666667 0.375    0.583333 0.1      0.090909 0.833333 0.75\n",
      " 0.111111 0.142857 0.125    0.875    0.363636 0.2      0.818182 0.8\n",
      " 0.3      0.636364 0.181818 0.909091 0.285714 0.222222 0.727273 0.571429\n",
      " 0.6      0.272727 0.714286 0.545455 0.428571 0.444444 0.454545 0.625\n",
      " 0.777778 0.555556 0.7      0.9      0.4      0.857143 0.888889]\n",
      "\n",
      "PURCHASES_INSTALLMENTS_FREQUENCY : 47\n",
      "Valores:[0.083333 0.       0.583333 1.       0.25     0.916667 0.75     0.5\n",
      " 0.333333 0.666667 0.416667 0.166667 0.833333 0.4      0.181818 0.818182\n",
      " 0.272727 0.375    0.125    0.636364 0.545455 0.909091 0.888889 0.2\n",
      " 0.8      0.1      0.142857 0.857143 0.444444 0.454545 0.111111 0.6\n",
      " 0.555556 0.777778 0.3      0.9      0.363636 0.714286 0.875    0.222222\n",
      " 0.285714 0.7      0.727273 0.571429 0.090909 0.428571 0.625   ]\n",
      "\n",
      "CASH_ADVANCE_FREQUENCY : 54\n",
      "Valores:[0.       0.25     0.083333 0.166667 0.333333 0.363636 0.833333 0.5\n",
      " 0.727273 0.125    0.875    0.111111 0.416667 0.181818 0.545455 0.75\n",
      " 0.142857 0.583333 0.666667 0.222222 0.285714 0.909091 0.2      0.625\n",
      " 0.090909 0.4      1.       0.8      0.636364 0.3      0.916667 0.444444\n",
      " 1.25     0.1      0.428571 0.272727 0.555556 0.6      0.454545 1.166667\n",
      " 0.375    0.777778 0.714286 0.571429 0.857143 1.125    1.1      1.5\n",
      " 0.7      0.818182 0.9      0.888889 1.090909 1.142857]\n",
      "\n",
      "CASH_ADVANCE_TRX : 65\n",
      "Valores:[  0   4   1   3   6  13   5  16  10   2  11   7  12  37  27  23  21  14\n",
      "  40   8   9  26  15  18  28  24  20  17  22  31 123  52  51  62  19  25\n",
      "  30  29  53  45  43  42 107  38  56  39  32  33  50  34  63  36 110  47\n",
      "  48  71  35  93  80  44  61  46  49  69  41]\n",
      "\n",
      "PURCHASES_TRX : 173\n",
      "Valores:[  2   0  12   1   8  64   5   3   6  26  11   9  92  17  13  45  14  41\n",
      "  27  20  87  18   4  42  61  33   7  50  22  23  60  46  75  31  10  34\n",
      "  81  25  85 217  19  52 216  97  24  77 130  90  44  39  15  30  36 123\n",
      " 151  21 101  49  98  28  84  93  72  38  99  62  48  16  32  51  74  29\n",
      "  59  76  47 126 229  40 103 121 157 114  53  83  43  54 222  66 141  37\n",
      "  79  70  80 194 117 100 111  67 219  55 152 104 182  88  82  71  78  35\n",
      " 122 105 108  69 175 135  91  65  68 119  63 140 113 358  58 248 129  56\n",
      "  89  57 139 176 136 195  73 109 208 115 110 147 273 102 185 171 168 232\n",
      "  95  86 148 112 128 254 198 298 154 116 142 131 347 204 200  94 118 344\n",
      " 162 308 199 309  96 274 224 143 133 127 186]\n",
      "\n",
      "CREDIT_LIMIT : 206\n",
      "Valores:[ 1000.        7000.        7500.        1200.        1800.\n",
      " 13500.        2300.       11000.        2000.        3000.\n",
      "  8000.        2500.       13000.        4000.       11250.\n",
      "  9000.        6000.        1700.       10500.        6900.\n",
      "  5000.        4500.        1500.        8500.        2400.\n",
      "  4200.        3300.       12000.        3500.        6500.\n",
      "  1600.        4150.        1850.        6250.        2250.\n",
      "  9500.       16500.        5700.        5500.       17000.\n",
      "  3200.       19000.        2800.       18000.       21500.\n",
      " 10000.       20000.        7900.       15000.       12500.\n",
      " 14000.        5300.         900.        6150.       11500.\n",
      " 23000.        2700.       14500.       19500.        1400.\n",
      "  2900.        1950.        7200.       10950.        2100.\n",
      "   500.       21000.        4800.        7300.       18500.\n",
      "  6550.        6200.        3150.       11800.       11300.\n",
      "  2750.       10300.        2850.       17500.       22500.\n",
      "  6750.       16000.        1750.       15500.        3800.\n",
      "  6600.        3650.        2600.        4600.        3350.\n",
      "  4300.        5250.       28000.        3600.       10200.\n",
      "   750.        7600.        2720.        2200.        7350.\n",
      "   300.        3750.        1900.       10400.        5200.\n",
      "  4350.        3050.        6700.       20500.        5750.\n",
      "  8300.        7950.        3100.        4050.        6300.\n",
      "  3666.666667   200.        9100.        3700.        7100.\n",
      "  4750.        3900.       10100.        1300.       19600.\n",
      " 10450.       11150.         600.        4700.         150.\n",
      "  3400.        1350.        5100.        7227.272727 13550.\n",
      "  9200.        6100.        2050.        6400.        4250.\n",
      " 14600.        8600.        3511.111111  5600.        6727.272727\n",
      " 13600.        8800.       11100.       12200.        8100.\n",
      "  8050.        4100.        5550.        4450.        5650.\n",
      "  8200.        5400.       25000.        9950.        1150.\n",
      "  6800.        4650.        7800.        2150.       22000.\n",
      "   400.        7700.        4400.        1050.         700.\n",
      "  5181.818182  4900.        1100.        2550.        2283.333333\n",
      " 30000.        9700.        9400.                nan  2725.\n",
      "   450.        8700.       12300.        7050.        1550.\n",
      "  9800.        5450.         800.        8954.545455  2950.\n",
      "  2450.        6850.        4950.        5900.        1250.\n",
      " 17150.        9600.          50.       10750.        1120.\n",
      " 13450.        3777.777778   650.        1450.        2350.\n",
      "  1833.333333]\n",
      "\n",
      "PAYMENTS : 8711\n",
      "Valores:[ 201.802084 4103.032597  622.066742 ...   81.270775   52.549959\n",
      "   63.165404]\n",
      "\n",
      "MINIMUM_PAYMENTS : 8637\n",
      "Valores:[ 139.509787 1072.340217  627.284787 ...   82.418369   55.755628\n",
      "   88.288956]\n",
      "\n",
      "PRC_FULL_PAYMENT : 47\n",
      "Valores:[0.       0.222222 1.       0.25     0.083333 0.3      0.333333 0.166667\n",
      " 0.111111 0.916667 0.2      0.090909 0.454545 0.181818 0.444444 0.636364\n",
      " 0.5      0.75     0.142857 0.888889 0.545455 0.818182 0.363636 0.833333\n",
      " 0.666667 0.909091 0.1      0.583333 0.8      0.416667 0.4      0.125\n",
      " 0.714286 0.6      0.571429 0.375    0.9      0.285714 0.7      0.272727\n",
      " 0.777778 0.875    0.727273 0.428571 0.625    0.857143 0.555556]\n",
      "\n",
      "TENURE : 7\n",
      "Valores:[12  8 11  9 10  7  6]\n"
     ]
    }
   ],
   "source": [
    "print(f\"Total de valores únicos :\")\n",
    "for column in df:\n",
    "    print(f\"\")\n",
    "    print(f\"{column} : {df[column].unique().shape[0]}\")\n",
    "    print(f\"Valores:{df[column].unique()}\")"
   ],
   "metadata": {
    "collapsed": false
   }
  },
  {
   "cell_type": "code",
   "execution_count": 4,
   "outputs": [],
   "source": [
    "#df  = df.drop(columns = ['CUST_ID','TENURE'], axis = 1)\n",
    "df.drop(columns = ['CUST_ID','TENURE'], axis = 1, inplace=True)"
   ],
   "metadata": {
    "collapsed": false
   }
  },
  {
   "cell_type": "code",
   "execution_count": 5,
   "outputs": [
    {
     "name": "stdout",
     "output_type": "stream",
     "text": [
      "BALANCE                               0\n",
      "BALANCE_FREQUENCY                     0\n",
      "PURCHASES                             0\n",
      "ONEOFF_PURCHASES                      0\n",
      "INSTALLMENTS_PURCHASES                0\n",
      "CASH_ADVANCE                          0\n",
      "PURCHASES_FREQUENCY                   0\n",
      "ONEOFF_PURCHASES_FREQUENCY            0\n",
      "PURCHASES_INSTALLMENTS_FREQUENCY      0\n",
      "CASH_ADVANCE_FREQUENCY                0\n",
      "CASH_ADVANCE_TRX                      0\n",
      "PURCHASES_TRX                         0\n",
      "CREDIT_LIMIT                          1\n",
      "PAYMENTS                              0\n",
      "MINIMUM_PAYMENTS                    313\n",
      "PRC_FULL_PAYMENT                      0\n",
      "dtype: int64\n"
     ]
    }
   ],
   "source": [
    "missing = df.isna().sum()\n",
    "print(missing)"
   ],
   "metadata": {
    "collapsed": false
   }
  },
  {
   "cell_type": "code",
   "execution_count": 6,
   "outputs": [
    {
     "data": {
      "text/plain": "BALANCE                             0\nBALANCE_FREQUENCY                   0\nPURCHASES                           0\nONEOFF_PURCHASES                    0\nINSTALLMENTS_PURCHASES              0\nCASH_ADVANCE                        0\nPURCHASES_FREQUENCY                 0\nONEOFF_PURCHASES_FREQUENCY          0\nPURCHASES_INSTALLMENTS_FREQUENCY    0\nCASH_ADVANCE_FREQUENCY              0\nCASH_ADVANCE_TRX                    0\nPURCHASES_TRX                       0\nCREDIT_LIMIT                        0\nPAYMENTS                            0\nMINIMUM_PAYMENTS                    0\nPRC_FULL_PAYMENT                    0\ndtype: int64"
     },
     "execution_count": 6,
     "metadata": {},
     "output_type": "execute_result"
    }
   ],
   "source": [
    "# Preencher dados faltantes com mediana\n",
    "df.fillna(df.median(), inplace = True)\n",
    "df.isna().sum()"
   ],
   "metadata": {
    "collapsed": false
   }
  },
  {
   "cell_type": "code",
   "execution_count": 7,
   "outputs": [
    {
     "data": {
      "text/plain": "array([[3.93555441e-02, 7.87271593e-04, 9.17958473e-02, ...,\n        1.94178127e-01, 1.34239194e-01, 0.00000000e+00],\n       [2.93875903e-01, 8.34231560e-05, 0.00000000e+00, ...,\n        3.76516684e-01, 9.84037959e-02, 2.03923046e-05],\n       [3.10798149e-01, 1.24560965e-04, 9.63068011e-02, ...,\n        7.74852335e-02, 7.81351982e-02, 0.00000000e+00],\n       ...,\n       [2.27733092e-02, 8.11060955e-04, 1.40540698e-01, ...,\n        7.90986945e-02, 8.02156174e-02, 2.43318384e-04],\n       [2.65257948e-02, 1.64255731e-03, 0.00000000e+00, ...,\n        1.03579625e-01, 1.09898221e-01, 4.92767391e-04],\n       [1.86406219e-01, 3.33426837e-04, 5.46778061e-01, ...,\n        3.15915455e-02, 4.41568390e-02, 0.00000000e+00]])"
     },
     "execution_count": 7,
     "metadata": {},
     "output_type": "execute_result"
    }
   ],
   "source": [
    "from sklearn.preprocessing import Normalizer\n",
    "\n",
    "values = Normalizer().fit_transform(df.values)\n",
    "values\n"
   ],
   "metadata": {
    "collapsed": false
   }
  },
  {
   "cell_type": "code",
   "execution_count": 8,
   "outputs": [],
   "source": [
    "from sklearn.cluster import KMeans\n",
    "\n",
    "import numpy as np\n",
    "\n",
    "\n",
    "\n",
    "seed = 42\n",
    "np.random.seed(seed)\n",
    "\n",
    "model = KMeans(n_clusters = 5, n_init = 10, max_iter = 300)\n",
    "\n",
    "y_pred  = model.fit_predict(values)"
   ],
   "metadata": {
    "collapsed": false
   }
  },
  {
   "cell_type": "code",
   "execution_count": 9,
   "outputs": [
    {
     "name": "stdout",
     "output_type": "stream",
     "text": [
      "0.3644845919974304\n"
     ]
    }
   ],
   "source": [
    "from sklearn import metrics\n",
    "labels = model.labels_\n",
    "silhouette = metrics.silhouette_score(values, labels, metric = 'euclidean')\n",
    "print(silhouette)"
   ],
   "metadata": {
    "collapsed": false
   }
  },
  {
   "cell_type": "code",
   "execution_count": 11,
   "outputs": [
    {
     "data": {
      "text/plain": "1.0757138590613295"
     },
     "execution_count": 11,
     "metadata": {},
     "output_type": "execute_result"
    }
   ],
   "source": [
    "dbs = metrics.davies_bouldin_score(values, labels)\n",
    "dbs"
   ],
   "metadata": {
    "collapsed": false
   }
  },
  {
   "cell_type": "code",
   "execution_count": 12,
   "outputs": [
    {
     "data": {
      "text/plain": "3431.79374284143"
     },
     "execution_count": 12,
     "metadata": {},
     "output_type": "execute_result"
    }
   ],
   "source": [
    "calinski = metrics.calinski_harabasz_score(values,labels)\n",
    "calinski"
   ],
   "metadata": {
    "collapsed": false
   }
  },
  {
   "cell_type": "code",
   "execution_count": 28,
   "outputs": [],
   "source": [
    "def clustering_algorithms(n_clusters, dataset):\n",
    "    print(f'N clusters: {n_clusters}')\n",
    "    model = KMeans(n_clusters = n_clusters, n_init = 10, max_iter = 300)\n",
    "    labels  = model.fit_predict(dataset)\n",
    "    s = metrics.silhouette_score(dataset, labels, metric = 'euclidean')\n",
    "    dbs = metrics.davies_bouldin_score(dataset, labels)\n",
    "    calinski = metrics.calinski_harabasz_score(dataset,labels)\n",
    "    print(f'Silhouette_score: {round(s,2)}')\n",
    "    print(f'Davies_bouldin_score: {round(dbs,2)}')\n",
    "    print(f'Calinski_harabasz_score: {round(calinski,2)}')\n",
    "    return\n"
   ],
   "metadata": {
    "collapsed": false
   }
  },
  {
   "cell_type": "code",
   "execution_count": 29,
   "outputs": [
    {
     "name": "stdout",
     "output_type": "stream",
     "text": [
      "N clusters: 5\n",
      "Silhouette_score: 0.36\n",
      "Davies_bouldin_score: 1.08\n",
      "Calinski_harabasz_score: 3431.78\n",
      "----------------------------------------------------------------------------------------------------\n",
      "N clusters: 10\n",
      "Silhouette_score: 0.31\n",
      "Davies_bouldin_score: 1.16\n",
      "Calinski_harabasz_score: 3017.63\n",
      "----------------------------------------------------------------------------------------------------\n",
      "N clusters: 15\n",
      "Silhouette_score: 0.3\n",
      "Davies_bouldin_score: 1.16\n",
      "Calinski_harabasz_score: 2703.49\n",
      "----------------------------------------------------------------------------------------------------\n",
      "N clusters: 2\n",
      "Silhouette_score: 0.3\n",
      "Davies_bouldin_score: 1.52\n",
      "Calinski_harabasz_score: 3321.85\n"
     ]
    }
   ],
   "source": [
    "clustering_algorithms(5, values)\n",
    "print('-'*100)\n",
    "clustering_algorithms(10, values)\n",
    "print('-'*100)\n",
    "clustering_algorithms(15, values)\n",
    "print('-'*100)\n",
    "clustering_algorithms(2, values)"
   ],
   "metadata": {
    "collapsed": false
   }
  },
  {
   "cell_type": "code",
   "execution_count": 34,
   "outputs": [
    {
     "name": "stdout",
     "output_type": "stream",
     "text": [
      "N clusters: 5\n",
      "Silhouette_score: 0.04\n",
      "Davies_bouldin_score: 3.54\n",
      "Calinski_harabasz_score: 302.17\n"
     ]
    }
   ],
   "source": [
    "random_data = np.random.rand(len(values),values.shape[1])\n",
    "clustering_algorithms(5, random_data)"
   ],
   "metadata": {
    "collapsed": false
   }
  },
  {
   "cell_type": "code",
   "execution_count": 36,
   "outputs": [
    {
     "name": "stdout",
     "output_type": "stream",
     "text": [
      "N clusters: 5\n",
      "Silhouette_score: 0.37\n",
      "Davies_bouldin_score: 1.06\n",
      "Calinski_harabasz_score: 1204.05\n",
      "----------------------------------------------------------------------------------------------------\n",
      "N clusters: 5\n",
      "Silhouette_score: 0.35\n",
      "Davies_bouldin_score: 1.14\n",
      "Calinski_harabasz_score: 1194.95\n",
      "----------------------------------------------------------------------------------------------------\n",
      "N clusters: 5\n",
      "Silhouette_score: 0.37\n",
      "Davies_bouldin_score: 1.1\n",
      "Calinski_harabasz_score: 1167.53\n"
     ]
    }
   ],
   "source": [
    "set1, set2, set3 = np.array_split(values,3)\n",
    "clustering_algorithms(5, set1)\n",
    "print('-'*100)\n",
    "clustering_algorithms(5, set2)\n",
    "print('-'*100)\n",
    "clustering_algorithms(5, set3)"
   ],
   "metadata": {
    "collapsed": false
   }
  },
  {
   "cell_type": "code",
   "execution_count": 37,
   "outputs": [
    {
     "data": {
      "text/plain": "<function matplotlib.pyplot.show(close=None, block=None)>"
     },
     "execution_count": 37,
     "metadata": {},
     "output_type": "execute_result"
    },
    {
     "data": {
      "text/plain": "<Figure size 640x480 with 1 Axes>",
      "image/png": "[encoded data removed]"
     },
     "metadata": {},
     "output_type": "display_data"
    }
   ],
   "source": [
    "import matplotlib.pyplot as plt\n",
    "plt.scatter(df['PURCHASES'], df['PAYMENTS'], c=labels, s=5, cmap='rainbow' )\n",
    "plt.xlabel(\"valor total pago\")\n",
    "plt.ylabel(\"valor total gasto\")\n",
    "plt.show"
   ],
   "metadata": {
    "collapsed": false
   }
  },
  {
   "cell_type": "code",
   "execution_count": 39,
   "outputs": [
    {
     "name": "stderr",
     "output_type": "stream",
     "text": [
      "\n",
      "KeyboardInterrupt\n",
      "\n"
     ]
    },
    {
     "name": "stdout",
     "output_type": "stream",
     "text": [
      "Error in callback <function _draw_all_if_interactive at 0x000002E2AE753670> (for post_execute):\n"
     ]
    },
    {
     "name": "stderr",
     "output_type": "stream",
     "text": [
      "\n",
      "KeyboardInterrupt\n",
      "\n"
     ]
    },
    {
     "name": "stdout",
     "output_type": "stream",
     "text": [
      "Error in callback <function flush_figures at 0x000002E2E2A35DC0> (for post_execute):\n"
     ]
    },
    {
     "name": "stderr",
     "output_type": "stream",
     "text": [
      "\n",
      "KeyboardInterrupt\n",
      "\n"
     ]
    }
   ],
   "source": [
    "import seaborn as sns\n",
    "\n",
    "df['cluster'] = labels\n",
    "sns.pairplot(df[0:],hue='cluster')"
   ],
   "metadata": {
    "collapsed": false
   }
  },
  {
   "cell_type": "code",
   "execution_count": 40,
   "outputs": [
    {
     "data": {
      "text/plain": "        BALANCE                                                    \\\n          count         mean          std        min          25%   \ncluster                                                             \n0        1540.0  1142.222657  1664.035755   0.000000   211.566656   \n1        2649.0  3037.962543  2478.838161   6.824905  1256.612223   \n2        1072.0  1794.024195  1982.950586   0.000000   506.925348   \n3        3278.0   443.992358   846.597972   0.000000    23.315538   \n4         411.0  1987.501586  1854.459156  70.794108  1018.958891   \n\n                                                BALANCE_FREQUENCY            \\\n                 50%          75%           max             count      mean   \ncluster                                                                       \n0         554.332740  1370.859355  19043.138560            1540.0  0.928053   \n1        2174.018945  4223.867789  18495.558550            2649.0  0.963740   \n2        1087.920500  2308.762488  14581.459140            1072.0  0.862131   \n3          82.992153   411.193793   9630.367575            3278.0  0.774417   \n4        1337.287314  2138.678431  11670.179850             411.0  0.989486   \n\n         ... MINIMUM_PAYMENTS               PRC_FULL_PAYMENT            \\\n         ...              75%           max            count      mean   \ncluster  ...                                                             \n0        ...       524.184580  18621.013310           1540.0  0.278582   \n1        ...      1330.593643   8345.641905           2649.0  0.001799   \n2        ...       884.718306  21235.065300           1072.0  0.117384   \n3        ...       248.800040   4483.503862           3278.0  0.246549   \n4        ...      7112.618584  76406.207520            411.0  0.019318   \n\n                                                      \n              std  min  25%       50%       75%  max  \ncluster                                               \n0        0.367203  0.0  0.0  0.083333  0.545455  1.0  \n1        0.023260  0.0  0.0  0.000000  0.000000  0.6  \n2        0.186853  0.0  0.0  0.083333  0.142857  1.0  \n3        0.346601  0.0  0.0  0.000000  0.444444  1.0  \n4        0.090901  0.0  0.0  0.000000  0.000000  1.0  \n\n[5 rows x 128 columns]",
      "text/html": "<div>\n<style scoped>\n    .dataframe tbody tr th:only-of-type {\n        vertical-align: middle;\n    }\n\n    .dataframe tbody tr th {\n        vertical-align: top;\n    }\n\n    .dataframe thead tr th {\n        text-align: left;\n    }\n\n    .dataframe thead tr:last-of-type th {\n        text-align: right;\n    }\n</style>\n<table border=\"1\" class=\"dataframe\">\n  <thead>\n    <tr>\n      <th></th>\n      <th colspan=\"8\" halign=\"left\">BALANCE</th>\n      <th colspan=\"2\" halign=\"left\">BALANCE_FREQUENCY</th>\n      <th>...</th>\n      <th colspan=\"2\" halign=\"left\">MINIMUM_PAYMENTS</th>\n      <th colspan=\"8\" halign=\"left\">PRC_FULL_PAYMENT</th>\n    </tr>\n    <tr>\n      <th></th>\n      <th>count</th>\n      <th>mean</th>\n      <th>std</th>\n      <th>min</th>\n      <th>25%</th>\n      <th>50%</th>\n      <th>75%</th>\n      <th>max</th>\n      <th>count</th>\n      <th>mean</th>\n      <th>...</th>\n      <th>75%</th>\n      <th>max</th>\n      <th>count</th>\n      <th>mean</th>\n      <th>std</th>\n      <th>min</th>\n      <th>25%</th>\n      <th>50%</th>\n      <th>75%</th>\n      <th>max</th>\n    </tr>\n    <tr>\n      <th>cluster</th>\n      <th></th>\n      <th></th>\n      <th></th>\n      <th></th>\n      <th></th>\n      <th></th>\n      <th></th>\n      <th></th>\n      <th></th>\n      <th></th>\n      <th></th>\n      <th></th>\n      <th></th>\n      <th></th>\n      <th></th>\n      <th></th>\n      <th></th>\n      <th></th>\n      <th></th>\n      <th></th>\n      <th></th>\n    </tr>\n  </thead>\n  <tbody>\n    <tr>\n      <th>0</th>\n      <td>1540.0</td>\n      <td>1142.222657</td>\n      <td>1664.035755</td>\n      <td>0.000000</td>\n      <td>211.566656</td>\n      <td>554.332740</td>\n      <td>1370.859355</td>\n      <td>19043.138560</td>\n      <td>1540.0</td>\n      <td>0.928053</td>\n      <td>...</td>\n      <td>524.184580</td>\n      <td>18621.013310</td>\n      <td>1540.0</td>\n      <td>0.278582</td>\n      <td>0.367203</td>\n      <td>0.0</td>\n      <td>0.0</td>\n      <td>0.083333</td>\n      <td>0.545455</td>\n      <td>1.0</td>\n    </tr>\n    <tr>\n      <th>1</th>\n      <td>2649.0</td>\n      <td>3037.962543</td>\n      <td>2478.838161</td>\n      <td>6.824905</td>\n      <td>1256.612223</td>\n      <td>2174.018945</td>\n      <td>4223.867789</td>\n      <td>18495.558550</td>\n      <td>2649.0</td>\n      <td>0.963740</td>\n      <td>...</td>\n      <td>1330.593643</td>\n      <td>8345.641905</td>\n      <td>2649.0</td>\n      <td>0.001799</td>\n      <td>0.023260</td>\n      <td>0.0</td>\n      <td>0.0</td>\n      <td>0.000000</td>\n      <td>0.000000</td>\n      <td>0.6</td>\n    </tr>\n    <tr>\n      <th>2</th>\n      <td>1072.0</td>\n      <td>1794.024195</td>\n      <td>1982.950586</td>\n      <td>0.000000</td>\n      <td>506.925348</td>\n      <td>1087.920500</td>\n      <td>2308.762488</td>\n      <td>14581.459140</td>\n      <td>1072.0</td>\n      <td>0.862131</td>\n      <td>...</td>\n      <td>884.718306</td>\n      <td>21235.065300</td>\n      <td>1072.0</td>\n      <td>0.117384</td>\n      <td>0.186853</td>\n      <td>0.0</td>\n      <td>0.0</td>\n      <td>0.083333</td>\n      <td>0.142857</td>\n      <td>1.0</td>\n    </tr>\n    <tr>\n      <th>3</th>\n      <td>3278.0</td>\n      <td>443.992358</td>\n      <td>846.597972</td>\n      <td>0.000000</td>\n      <td>23.315538</td>\n      <td>82.992153</td>\n      <td>411.193793</td>\n      <td>9630.367575</td>\n      <td>3278.0</td>\n      <td>0.774417</td>\n      <td>...</td>\n      <td>248.800040</td>\n      <td>4483.503862</td>\n      <td>3278.0</td>\n      <td>0.246549</td>\n      <td>0.346601</td>\n      <td>0.0</td>\n      <td>0.0</td>\n      <td>0.000000</td>\n      <td>0.444444</td>\n      <td>1.0</td>\n    </tr>\n    <tr>\n      <th>4</th>\n      <td>411.0</td>\n      <td>1987.501586</td>\n      <td>1854.459156</td>\n      <td>70.794108</td>\n      <td>1018.958891</td>\n      <td>1337.287314</td>\n      <td>2138.678431</td>\n      <td>11670.179850</td>\n      <td>411.0</td>\n      <td>0.989486</td>\n      <td>...</td>\n      <td>7112.618584</td>\n      <td>76406.207520</td>\n      <td>411.0</td>\n      <td>0.019318</td>\n      <td>0.090901</td>\n      <td>0.0</td>\n      <td>0.0</td>\n      <td>0.000000</td>\n      <td>0.000000</td>\n      <td>1.0</td>\n    </tr>\n  </tbody>\n</table>\n<p>5 rows × 128 columns</p>\n</div>"
     },
     "execution_count": 40,
     "metadata": {},
     "output_type": "execute_result"
    }
   ],
   "source": [
    "df.groupby('cluster').describe()"
   ],
   "metadata": {
    "collapsed": false
   }
  },
  {
   "cell_type": "code",
   "execution_count": 41,
   "outputs": [
    {
     "data": {
      "text/plain": "array([[1.59699490e-01, 2.45649360e-04, 4.38116859e-01, 2.56325660e-01,\n        1.81962376e-01, 2.57889184e-02, 2.04826443e-04, 8.87914942e-05,\n        1.51162866e-04, 9.36296056e-06, 1.69350945e-04, 6.17145756e-03,\n        6.04336246e-01, 4.02584838e-01, 8.54128174e-02, 7.26645255e-05],\n       [5.04263792e-01, 2.72194282e-04, 6.17808431e-02, 3.62269020e-02,\n        2.55756543e-02, 2.52903017e-01, 6.73170559e-05, 2.56975193e-05,\n        4.50651626e-05, 5.74388410e-05, 1.15687334e-03, 1.33194105e-03,\n        7.19174706e-01, 1.66205262e-01, 1.79245673e-01, 5.52303554e-07],\n       [2.35141479e-01, 2.16555293e-04, 6.03857074e-02, 3.44170171e-02,\n        2.59739049e-02, 4.00128071e-01, 5.26401668e-05, 2.04882397e-05,\n        3.51921361e-05, 6.54864556e-05, 1.57199032e-03, 1.12217156e-03,\n        5.35089146e-01, 5.98040052e-01, 1.04348171e-01, 2.77498236e-05],\n       [6.91386971e-02, 2.30552524e-04, 1.21267798e-01, 4.80255998e-02,\n        7.33425496e-02, 2.43607736e-02, 1.72581896e-04, 3.37097813e-05,\n        1.40021986e-04, 7.93309218e-06, 1.24113667e-04, 2.86037895e-03,\n        9.43728649e-01, 1.53557708e-01, 5.68217245e-02, 7.57977264e-05],\n       [3.32918803e-01, 2.68423552e-04, 1.58240376e-01, 3.63059801e-02,\n        1.22319068e-01, 5.83557153e-02, 1.66754597e-04, 2.64938445e-05,\n        1.47063187e-04, 1.93217566e-05, 4.27934836e-04, 3.86197017e-03,\n        3.76718873e-01, 2.51861450e-01, 6.80311114e-01, 4.23993819e-06]])"
     },
     "execution_count": 41,
     "metadata": {},
     "output_type": "execute_result"
    }
   ],
   "source": [
    "centroids = model.cluster_centers_\n",
    "centroids"
   ],
   "metadata": {
    "collapsed": false
   }
  },
  {
   "cell_type": "code",
   "execution_count": 42,
   "outputs": [
    {
     "name": "stdout",
     "output_type": "stream",
     "text": [
      "BALANCE \n",
      "0.0224\n",
      "BALANCE_FREQUENCY \n",
      "0.0000\n",
      "PURCHASES \n",
      "0.0196\n",
      "ONEOFF_PURCHASES \n",
      "0.0076\n",
      "INSTALLMENTS_PURCHASES \n",
      "0.0036\n",
      "CASH_ADVANCE \n",
      "0.0225\n",
      "PURCHASES_FREQUENCY \n",
      "0.0000\n",
      "ONEOFF_PURCHASES_FREQUENCY \n",
      "0.0000\n",
      "PURCHASES_INSTALLMENTS_FREQUENCY \n",
      "0.0000\n",
      "CASH_ADVANCE_FREQUENCY \n",
      "0.0000\n",
      "CASH_ADVANCE_TRX \n",
      "0.0000\n",
      "PURCHASES_TRX \n",
      "0.0000\n",
      "CREDIT_LIMIT \n",
      "0.0360\n",
      "PAYMENTS \n",
      "0.0280\n",
      "MINIMUM_PAYMENTS \n",
      "0.0543\n",
      "PRC_FULL_PAYMENT \n",
      "0.0000\n"
     ]
    }
   ],
   "source": [
    "max = len(centroids[0])\n",
    "for i in range(max):\n",
    "    print(df.columns.values[i],\"\\n{:.4f}\".format(centroids[:, i].var()))"
   ],
   "metadata": {
    "collapsed": false
   }
  },
  {
   "cell_type": "code",
   "execution_count": 45,
   "outputs": [
    {
     "name": "stderr",
     "output_type": "stream",
     "text": [
      "C:\\Users\\dmm\\AppData\\Local\\Temp\\ipykernel_18740\\4090756182.py:1: FutureWarning: Indexing with multiple keys (implicitly converted to a tuple of keys) will be deprecated, use a list instead.\n",
      "  description = df.groupby(\"cluster\")[\"BALANCE\", \"PURCHASES\", \"CASH_ADVANCE\", \"CREDIT_LIMIT\", \"PAYMENTS\"]\n"
     ]
    },
    {
     "data": {
      "text/plain": "             BALANCE    PURCHASES  CASH_ADVANCE  CREDIT_LIMIT     PAYMENTS  \\\ncluster                                                                      \n0        1142.222657  3268.886929    183.019398   4097.701397  3037.241495   \n1        3037.962543   385.248630   1636.917210   4495.771989   968.890376   \n2        1794.024195   475.494823   3270.246792   3976.372399  4709.556601   \n3         443.992358   629.345171    141.569301   5132.945933   814.477150   \n4        1987.501586   854.865815    421.129352   2227.737226  1336.238911   \n\n         n_clients  \ncluster             \n0             1540  \n1             2649  \n2             1072  \n3             3278  \n4              411  ",
      "text/html": "<div>\n<style scoped>\n    .dataframe tbody tr th:only-of-type {\n        vertical-align: middle;\n    }\n\n    .dataframe tbody tr th {\n        vertical-align: top;\n    }\n\n    .dataframe thead th {\n        text-align: right;\n    }\n</style>\n<table border=\"1\" class=\"dataframe\">\n  <thead>\n    <tr style=\"text-align: right;\">\n      <th></th>\n      <th>BALANCE</th>\n      <th>PURCHASES</th>\n      <th>CASH_ADVANCE</th>\n      <th>CREDIT_LIMIT</th>\n      <th>PAYMENTS</th>\n      <th>n_clients</th>\n    </tr>\n    <tr>\n      <th>cluster</th>\n      <th></th>\n      <th></th>\n      <th></th>\n      <th></th>\n      <th></th>\n      <th></th>\n    </tr>\n  </thead>\n  <tbody>\n    <tr>\n      <th>0</th>\n      <td>1142.222657</td>\n      <td>3268.886929</td>\n      <td>183.019398</td>\n      <td>4097.701397</td>\n      <td>3037.241495</td>\n      <td>1540</td>\n    </tr>\n    <tr>\n      <th>1</th>\n      <td>3037.962543</td>\n      <td>385.248630</td>\n      <td>1636.917210</td>\n      <td>4495.771989</td>\n      <td>968.890376</td>\n      <td>2649</td>\n    </tr>\n    <tr>\n      <th>2</th>\n      <td>1794.024195</td>\n      <td>475.494823</td>\n      <td>3270.246792</td>\n      <td>3976.372399</td>\n      <td>4709.556601</td>\n      <td>1072</td>\n    </tr>\n    <tr>\n      <th>3</th>\n      <td>443.992358</td>\n      <td>629.345171</td>\n      <td>141.569301</td>\n      <td>5132.945933</td>\n      <td>814.477150</td>\n      <td>3278</td>\n    </tr>\n    <tr>\n      <th>4</th>\n      <td>1987.501586</td>\n      <td>854.865815</td>\n      <td>421.129352</td>\n      <td>2227.737226</td>\n      <td>1336.238911</td>\n      <td>411</td>\n    </tr>\n  </tbody>\n</table>\n</div>"
     },
     "execution_count": 45,
     "metadata": {},
     "output_type": "execute_result"
    }
   ],
   "source": [
    "description = df.groupby(\"cluster\")[\"BALANCE\", \"PURCHASES\", \"CASH_ADVANCE\", \"CREDIT_LIMIT\", \"PAYMENTS\"]\n",
    "n_clients = description.size()\n",
    "description = description.mean()\n",
    "description['n_clients'] = n_clients\n",
    "description"
   ],
   "metadata": {
    "collapsed": false
   }
  },
  {
   "cell_type": "code",
   "execution_count": 48,
   "outputs": [
    {
     "name": "stderr",
     "output_type": "stream",
     "text": [
      "C:\\Users\\dmm\\AppData\\Local\\Temp\\ipykernel_18740\\4090756182.py:1: FutureWarning: Indexing with multiple keys (implicitly converted to a tuple of keys) will be deprecated, use a list instead.\n",
      "  description = df.groupby(\"cluster\")[\"BALANCE\", \"PURCHASES\", \"CASH_ADVANCE\", \"CREDIT_LIMIT\", \"PAYMENTS\"]\n"
     ]
    },
    {
     "data": {
      "text/plain": "             BALANCE    PURCHASES  CASH_ADVANCE  CREDIT_LIMIT     PAYMENTS  \\\ncluster                                                                      \n0        1142.222657  3268.886929    183.019398   4097.701397  3037.241495   \n1        3037.962543   385.248630   1636.917210   4495.771989   968.890376   \n2        1794.024195   475.494823   3270.246792   3976.372399  4709.556601   \n3         443.992358   629.345171    141.569301   5132.945933   814.477150   \n4        1987.501586   854.865815    421.129352   2227.737226  1336.238911   \n\n         n_clients  \ncluster             \n0             1540  \n1             2649  \n2             1072  \n3             3278  \n4              411  ",
      "text/html": "<div>\n<style scoped>\n    .dataframe tbody tr th:only-of-type {\n        vertical-align: middle;\n    }\n\n    .dataframe tbody tr th {\n        vertical-align: top;\n    }\n\n    .dataframe thead th {\n        text-align: right;\n    }\n</style>\n<table border=\"1\" class=\"dataframe\">\n  <thead>\n    <tr style=\"text-align: right;\">\n      <th></th>\n      <th>BALANCE</th>\n      <th>PURCHASES</th>\n      <th>CASH_ADVANCE</th>\n      <th>CREDIT_LIMIT</th>\n      <th>PAYMENTS</th>\n      <th>n_clients</th>\n    </tr>\n    <tr>\n      <th>cluster</th>\n      <th></th>\n      <th></th>\n      <th></th>\n      <th></th>\n      <th></th>\n      <th></th>\n    </tr>\n  </thead>\n  <tbody>\n    <tr>\n      <th>0</th>\n      <td>1142.222657</td>\n      <td>3268.886929</td>\n      <td>183.019398</td>\n      <td>4097.701397</td>\n      <td>3037.241495</td>\n      <td>1540</td>\n    </tr>\n    <tr>\n      <th>1</th>\n      <td>3037.962543</td>\n      <td>385.248630</td>\n      <td>1636.917210</td>\n      <td>4495.771989</td>\n      <td>968.890376</td>\n      <td>2649</td>\n    </tr>\n    <tr>\n      <th>2</th>\n      <td>1794.024195</td>\n      <td>475.494823</td>\n      <td>3270.246792</td>\n      <td>3976.372399</td>\n      <td>4709.556601</td>\n      <td>1072</td>\n    </tr>\n    <tr>\n      <th>3</th>\n      <td>443.992358</td>\n      <td>629.345171</td>\n      <td>141.569301</td>\n      <td>5132.945933</td>\n      <td>814.477150</td>\n      <td>3278</td>\n    </tr>\n    <tr>\n      <th>4</th>\n      <td>1987.501586</td>\n      <td>854.865815</td>\n      <td>421.129352</td>\n      <td>2227.737226</td>\n      <td>1336.238911</td>\n      <td>411</td>\n    </tr>\n  </tbody>\n</table>\n</div>"
     },
     "execution_count": 48,
     "metadata": {},
     "output_type": "execute_result"
    }
   ],
   "source": [
    "'''CLUSTER 0: Clientes que gastam pouco. Clientes com o maior limite. Bons pagadores. Maior número de clientes.\n",
    "\n",
    "CLUSTER 1: Clientes que mais gastam. O foco deles é o saque. Piores pagadores. Boa quantidade de clientes.\n",
    "\n",
    "CLUSTER 2: Clientes que gastam muito com compras. Melhores pagadores.\n",
    "\n",
    "CLUSTER 3: Clientes que gastam muito com saques. Pagam as vezes.\n",
    "\n",
    "CLUSTER 4: Clientes com o menor limite. Não são bons pagadores. Menor quantidade de clientes.'''"
   ],
   "metadata": {
    "collapsed": false
   }
  },
  {
   "cell_type": "code",
   "execution_count": 50,
   "outputs": [
    {
     "data": {
      "text/plain": "          count      mean       std  min  25%       50%       75%  max\ncluster                                                               \n0        1540.0  0.278582  0.367203  0.0  0.0  0.083333  0.545455  1.0\n1        2649.0  0.001799  0.023260  0.0  0.0  0.000000  0.000000  0.6\n2        1072.0  0.117384  0.186853  0.0  0.0  0.083333  0.142857  1.0\n3        3278.0  0.246549  0.346601  0.0  0.0  0.000000  0.444444  1.0\n4         411.0  0.019318  0.090901  0.0  0.0  0.000000  0.000000  1.0",
      "text/html": "<div>\n<style scoped>\n    .dataframe tbody tr th:only-of-type {\n        vertical-align: middle;\n    }\n\n    .dataframe tbody tr th {\n        vertical-align: top;\n    }\n\n    .dataframe thead th {\n        text-align: right;\n    }\n</style>\n<table border=\"1\" class=\"dataframe\">\n  <thead>\n    <tr style=\"text-align: right;\">\n      <th></th>\n      <th>count</th>\n      <th>mean</th>\n      <th>std</th>\n      <th>min</th>\n      <th>25%</th>\n      <th>50%</th>\n      <th>75%</th>\n      <th>max</th>\n    </tr>\n    <tr>\n      <th>cluster</th>\n      <th></th>\n      <th></th>\n      <th></th>\n      <th></th>\n      <th></th>\n      <th></th>\n      <th></th>\n      <th></th>\n    </tr>\n  </thead>\n  <tbody>\n    <tr>\n      <th>0</th>\n      <td>1540.0</td>\n      <td>0.278582</td>\n      <td>0.367203</td>\n      <td>0.0</td>\n      <td>0.0</td>\n      <td>0.083333</td>\n      <td>0.545455</td>\n      <td>1.0</td>\n    </tr>\n    <tr>\n      <th>1</th>\n      <td>2649.0</td>\n      <td>0.001799</td>\n      <td>0.023260</td>\n      <td>0.0</td>\n      <td>0.0</td>\n      <td>0.000000</td>\n      <td>0.000000</td>\n      <td>0.6</td>\n    </tr>\n    <tr>\n      <th>2</th>\n      <td>1072.0</td>\n      <td>0.117384</td>\n      <td>0.186853</td>\n      <td>0.0</td>\n      <td>0.0</td>\n      <td>0.083333</td>\n      <td>0.142857</td>\n      <td>1.0</td>\n    </tr>\n    <tr>\n      <th>3</th>\n      <td>3278.0</td>\n      <td>0.246549</td>\n      <td>0.346601</td>\n      <td>0.0</td>\n      <td>0.0</td>\n      <td>0.000000</td>\n      <td>0.444444</td>\n      <td>1.0</td>\n    </tr>\n    <tr>\n      <th>4</th>\n      <td>411.0</td>\n      <td>0.019318</td>\n      <td>0.090901</td>\n      <td>0.0</td>\n      <td>0.0</td>\n      <td>0.000000</td>\n      <td>0.000000</td>\n      <td>1.0</td>\n    </tr>\n  </tbody>\n</table>\n</div>"
     },
     "execution_count": 50,
     "metadata": {},
     "output_type": "execute_result"
    }
   ],
   "source": [
    "df.groupby(\"cluster\")[\"PRC_FULL_PAYMENT\"].describe()"
   ],
   "metadata": {
    "collapsed": false
   }
  }
 ],
 "metadata": {
  "kernelspec": {
   "display_name": "Python 3",
   "language": "python",
   "name": "python3"
  },
  "language_info": {
   "codemirror_mode": {
    "name": "ipython",
    "version": 2
   },
   "file_extension": ".py",
   "mimetype": "text/x-python",
   "name": "python",
   "nbconvert_exporter": "python",
   "pygments_lexer": "ipython2",
   "version": "2.7.6"
  }
 },
 "nbformat": 4,
 "nbformat_minor": 0
}
